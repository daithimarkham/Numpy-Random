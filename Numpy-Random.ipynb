{
 "cells": [
  {
   "cell_type": "markdown",
   "metadata": {},
   "source": [
    "# The Numpy.Random Package.\n",
    "## Creates random numbers and arrays."
   ]
  },
  {
   "cell_type": "code",
   "execution_count": 1,
   "metadata": {},
   "outputs": [],
   "source": [
    "import numpy as np"
   ]
  },
  {
   "cell_type": "code",
   "execution_count": 3,
   "metadata": {},
   "outputs": [
    {
     "data": {
      "text/plain": [
       "array([[0.0330095 , 0.03005145],\n",
       "       [0.04895618, 0.76258523],\n",
       "       [0.33964832, 0.45795487],\n",
       "       [0.18104488, 0.27011908]])"
      ]
     },
     "execution_count": 3,
     "metadata": {},
     "output_type": "execute_result"
    }
   ],
   "source": [
    "# Numpy creates arrays. Random numbers in this case between 0 and 1.\n",
    "# Contains arrays, floating numbers.\n",
    "np.random.rand(4,2)"
   ]
  },
  {
   "cell_type": "code",
   "execution_count": 4,
   "metadata": {},
   "outputs": [
    {
     "data": {
      "text/plain": [
       "array([0.27246682, 0.37766577, 0.64288801, 0.01787199, 0.27641161,\n",
       "       0.01810089])"
      ]
     },
     "execution_count": 4,
     "metadata": {},
     "output_type": "execute_result"
    }
   ],
   "source": [
    "# Get an array with six elements in it.\n",
    "np.random.rand(6)"
   ]
  },
  {
   "cell_type": "code",
   "execution_count": 5,
   "metadata": {},
   "outputs": [
    {
     "data": {
      "text/plain": [
       "array([[[0.29948204, 0.52333513, 0.52240262],\n",
       "        [0.75575451, 0.63099467, 0.66633216],\n",
       "        [0.44416772, 0.97703443, 0.13202984],\n",
       "        [0.96185699, 0.19232801, 0.55927433]],\n",
       "\n",
       "       [[0.93469501, 0.26629587, 0.47573531],\n",
       "        [0.84113857, 0.70591687, 0.23821694],\n",
       "        [0.283146  , 0.2259494 , 0.2467896 ],\n",
       "        [0.82314359, 0.16993817, 0.24203987]]])"
      ]
     },
     "execution_count": 5,
     "metadata": {},
     "output_type": "execute_result"
    }
   ],
   "source": [
    "# Two arrays, four rows and thee columns.\n",
    "np.random.rand(2,4,3)"
   ]
  },
  {
   "cell_type": "code",
   "execution_count": 6,
   "metadata": {},
   "outputs": [],
   "source": [
    "x = np.random.rand(1000)"
   ]
  },
  {
   "cell_type": "code",
   "execution_count": 7,
   "metadata": {},
   "outputs": [
    {
     "data": {
      "text/plain": [
       "<function matplotlib.pyplot.show(*args, **kw)>"
      ]
     },
     "execution_count": 7,
     "metadata": {},
     "output_type": "execute_result"
    },
    {
     "data": {
      "image/png": "[encoded data removed]",
      "text/plain": [
       "<Figure size 432x288 with 1 Axes>"
      ]
     },
     "metadata": {
      "needs_background": "light"
     },
     "output_type": "display_data"
    }
   ],
   "source": [
    "# Histogram shows the most typical values out of 1000 and displays in a bar chart.\n",
    "%matplotlib inline\n",
    "import matplotlib.pyplot as plt\n",
    "plt.hist(x)\n",
    "plt.show # this will display if the above command does not display. \n",
    "# If the above is not displaying type in %matplotlib inline"
   ]
  },
  {
   "cell_type": "markdown",
   "metadata": {},
   "source": [
    "## Distributions\n",
    "### Uniform Distribution\n",
    "In statistics, a type of probability distribution in which all outcomes are equally likely; each variable has the same probability that it will be the outcome. A deck of cards has within it uniform distributions because the likelihood of drawing a heart, a club, a diamond or a spade is equally likely. A coin also has a uniform distribution because the probability of getting either heads or tails in a coin toss is the same.\n",
    "\n",
    "\n",
    "The uniform distribution can be visualized as a straight horizontal line, so for a coin flip returning a head or tail, both have a probability p = 0.50 and would be depicted by a line from the y-axis at 0.50."
   ]
  },
  {
   "cell_type": "code",
   "execution_count": 13,
   "metadata": {},
   "outputs": [
    {
     "data": {
      "text/plain": [
       "array([4.54157235, 2.41714745, 4.15048345, 4.89861001, 4.84557089,\n",
       "       3.2981903 , 4.44776049, 3.98436835, 2.11329695, 2.95107035])"
      ]
     },
     "execution_count": 13,
     "metadata": {},
     "output_type": "execute_result"
    }
   ],
   "source": [
    "# Get a 1000 numbers back.\n",
    "# Random,rand will only give you numbers between 0 and 1.\n",
    "# Random uniform will give you any numbers.\n",
    "np.random.uniform(2,5,10)"
   ]
  },
  {
   "cell_type": "code",
   "execution_count": null,
   "metadata": {},
   "outputs": [],
   "source": [
    "# Pretty much does the same thing as the rand function which we looked at above.\n",
    "x = np.random.uniform(0,1000,10000)"
   ]
  },
  {
   "cell_type": "code",
   "execution_count": 14,
   "metadata": {},
   "outputs": [
    {
     "data": {
      "text/plain": [
       "(array([102., 106.,  87., 106., 104.,  88., 105., 104.,  95., 103.]),\n",
       " array([8.03120801e-05, 1.00047194e-01, 2.00014075e-01, 2.99980957e-01,\n",
       "        3.99947839e-01, 4.99914720e-01, 5.99881602e-01, 6.99848484e-01,\n",
       "        7.99815366e-01, 8.99782247e-01, 9.99749129e-01]),\n",
       " <a list of 10 Patch objects>)"
      ]
     },
     "execution_count": 14,
     "metadata": {},
     "output_type": "execute_result"
    },
    {
     "data": {
      "image/png": "[encoded data removed]",
      "text/plain": [
       "<Figure size 432x288 with 1 Axes>"
      ]
     },
     "metadata": {
      "needs_background": "light"
     },
     "output_type": "display_data"
    }
   ],
   "source": [
    "# Shows the numbers on a bar chart.\n",
    "plt.hist(x)"
   ]
  },
  {
   "cell_type": "markdown",
   "metadata": {},
   "source": [
    "## Numpy.Random.Normal.\n",
    "Draw random samples from a normal (Gaussian) distribution.\n",
    "\n",
    "The probability density function of the normal distribution, first derived by De Moivre and 200 years later by both Gauss and Laplace independently [R255], is often called the bell curve because of its characteristic shape (see the example below).\n",
    "\n",
    "The normal distributions occurs often in nature. For example, it describes the commonly occurring distribution of samples influenced by a large number of tiny, random disturbances, each with its own unique distribution \n",
    "\n",
    "Below the numbers with e-01 at the end of it, means multipy whatever came before the e by 10 to the minus 1 or divide by 10, e-02 means divide by 100 and so on.\n",
    "\n",
    "Can take more functions and see how they work if you like."
   ]
  },
  {
   "cell_type": "code",
   "execution_count": 16,
   "metadata": {},
   "outputs": [
    {
     "data": {
      "text/plain": [
       "array([ 2.77174174e-02,  9.28437118e-02, -2.23574330e-02, -7.83833955e-02,\n",
       "       -1.06391848e-01,  9.03285185e-02, -3.91292649e-03,  8.40539507e-03,\n",
       "        9.88696625e-03, -6.31828277e-02,  1.29155374e-01, -2.89876202e-02,\n",
       "       -2.91846358e-02, -1.10798644e-01, -1.19261610e-01, -1.05374611e-01,\n",
       "        1.60161443e-01,  3.87206850e-02, -5.70466537e-03, -3.69113244e-02,\n",
       "        6.36476258e-02,  1.03829532e-01, -8.41862773e-02, -1.59974732e-01,\n",
       "        1.50571125e-02, -1.08321604e-02,  1.43184511e-01, -1.64416979e-01,\n",
       "       -6.39033547e-02, -9.98535080e-03,  1.36001074e-01,  1.34543435e-02,\n",
       "       -1.12019910e-01,  1.09433794e-01,  5.22131856e-02,  2.93546394e-02,\n",
       "        1.65858397e-02,  2.02837149e-01,  8.81415558e-02,  1.76067635e-01,\n",
       "        6.50387311e-02, -2.34642388e-02,  4.50208543e-02, -1.37252703e-04,\n",
       "       -6.52802716e-02,  2.71005867e-02,  4.54816910e-02,  1.51737518e-01,\n",
       "       -1.54564282e-01, -5.11036064e-02, -1.47100583e-01,  1.51887683e-01,\n",
       "       -8.37280073e-02,  5.58370679e-02,  1.32917522e-01,  8.83770482e-02,\n",
       "        2.05786282e-01, -6.59280258e-03,  1.78804552e-01, -2.12752652e-01,\n",
       "        9.95814801e-03,  2.53642496e-02, -1.01446734e-01,  1.46079653e-01,\n",
       "        1.32350367e-01,  1.22568774e-01, -1.64196391e-02, -5.79228073e-03,\n",
       "        1.30456230e-01,  7.98353197e-02,  4.16174491e-02,  4.90718636e-02,\n",
       "       -2.96297236e-02,  9.48699248e-02,  9.01260919e-02,  3.00788736e-02,\n",
       "        7.78641176e-02,  2.33300987e-01,  1.37963240e-01, -1.03641005e-02,\n",
       "       -3.55560091e-02, -5.14600237e-02, -2.92051380e-02,  1.36512479e-01,\n",
       "       -1.43181447e-02, -4.21709449e-03,  2.73184318e-01,  9.79351190e-02,\n",
       "       -3.88059047e-02, -4.82545439e-02, -1.34573067e-02,  2.49198622e-02,\n",
       "       -1.15213487e-01,  1.57054111e-01, -2.94593334e-02,  9.41685593e-02,\n",
       "        7.77625933e-02, -1.49164387e-01,  7.86514153e-02, -5.82876891e-02,\n",
       "        1.51735338e-01, -5.63938163e-02, -5.93927330e-02, -3.65829656e-02,\n",
       "        2.45151094e-01,  2.28999766e-01,  1.22550372e-01,  7.84157310e-02,\n",
       "        2.04473711e-01,  1.23822985e-01, -3.37503934e-02, -4.72366108e-02,\n",
       "       -1.71447504e-02, -5.42263235e-02,  2.93709760e-03,  9.01124829e-02,\n",
       "       -9.09316572e-02, -9.83945009e-02, -1.06461032e-01,  7.27976440e-02,\n",
       "        4.57588293e-02, -8.36541803e-02, -9.26007323e-02, -1.54612775e-01,\n",
       "       -2.35964410e-01,  1.94395551e-02,  5.02397714e-02, -2.84282518e-01,\n",
       "        6.57626781e-02, -1.21287004e-02,  1.53489918e-01, -1.04028116e-01,\n",
       "       -1.43296600e-01,  7.16218162e-02, -1.09222464e-01, -2.13610393e-01,\n",
       "        7.69845429e-02, -7.87888998e-02,  3.90512299e-03,  2.21883402e-01,\n",
       "        1.55204321e-02,  9.28519331e-02, -8.19858453e-02,  4.96618516e-02,\n",
       "        2.06891160e-02,  6.14544560e-02,  1.34427857e-01, -1.69424467e-02,\n",
       "        1.66841213e-02, -2.38712120e-02,  1.07474505e-01,  1.12274412e-01,\n",
       "        4.01480034e-02, -2.33830053e-02, -1.81154784e-01, -5.17266439e-02,\n",
       "        1.62478799e-01,  1.04252430e-01,  1.19973112e-01,  1.00850513e-01,\n",
       "        1.86177219e-02,  9.06272432e-03,  7.88859073e-02,  8.34131669e-03,\n",
       "       -3.48575734e-02, -1.91026796e-01,  9.38583977e-02, -5.58917001e-02,\n",
       "       -7.25505751e-02,  1.59974537e-01, -1.97501129e-01,  1.37139233e-01,\n",
       "        3.32451570e-03,  1.58595363e-01, -1.04345994e-01,  3.65639204e-02,\n",
       "       -3.03723537e-02,  1.21611480e-01, -1.17828429e-01, -3.88994477e-02,\n",
       "        1.26152066e-01, -2.08059184e-02, -2.13111420e-02,  6.68994958e-02,\n",
       "       -1.38695254e-01, -1.21053260e-01, -2.26944566e-01, -1.06297524e-01,\n",
       "        1.59792526e-01, -1.06672567e-01,  4.83506976e-02, -2.58396390e-01,\n",
       "        5.60156354e-02,  1.17982902e-02,  2.54118322e-02, -2.19111269e-01,\n",
       "        3.24990722e-02,  1.66442525e-02,  1.85105432e-01,  1.08410385e-01,\n",
       "       -5.23019387e-02, -2.32132306e-03, -4.48416422e-02, -1.72567960e-02,\n",
       "       -6.03480142e-02, -1.25429675e-01,  9.55619846e-02,  9.64271962e-02,\n",
       "        4.71673053e-03, -1.31363994e-01,  1.19958037e-01,  7.44933226e-02,\n",
       "       -9.64886270e-02, -5.53840977e-02, -7.36016954e-02, -7.57331022e-03,\n",
       "        5.35965597e-02,  1.10564550e-02,  1.16518499e-01,  9.77551428e-02,\n",
       "       -2.01179471e-02, -3.76496754e-02, -9.79606380e-02,  2.41719444e-01,\n",
       "       -3.75116923e-02,  1.80268366e-02, -2.78881077e-02,  1.63230995e-01,\n",
       "       -1.01712121e-02, -1.20313290e-01,  5.97821235e-02,  8.48623773e-02,\n",
       "        1.37391275e-01,  7.86216940e-02, -7.26848363e-02, -8.59260583e-02,\n",
       "        1.17653670e-01, -1.54904283e-02,  9.17304458e-03,  1.07291189e-02,\n",
       "       -4.55719940e-02, -6.28514675e-02, -3.43431890e-02,  2.56394426e-01,\n",
       "       -1.48384402e-01,  1.01554407e-01, -1.23118891e-01,  5.19245528e-02,\n",
       "       -3.89188674e-02, -2.24427936e-01,  2.76442319e-02, -8.98263558e-03,\n",
       "       -5.76751913e-02, -6.26677607e-03, -3.51950072e-02, -9.06299762e-02,\n",
       "        8.71811893e-02, -1.41900520e-01,  5.65199772e-02, -1.03768496e-01,\n",
       "        9.03199789e-02,  1.24511328e-01, -1.56019611e-01,  6.94969057e-02,\n",
       "       -1.00462427e-01, -6.21202558e-02, -7.32987037e-02, -8.53561928e-02,\n",
       "        8.75039517e-02, -1.04102782e-01,  8.28139202e-02, -5.30088927e-02,\n",
       "       -9.34234581e-02,  7.86609687e-02,  1.21977546e-01,  3.54053562e-02,\n",
       "        8.90606893e-02,  1.96870789e-01,  1.82829091e-02, -1.34807593e-01,\n",
       "        7.66929337e-02,  3.81451624e-02,  6.38318318e-02,  4.69313526e-02,\n",
       "        1.26557530e-01, -2.27368962e-02,  3.12374086e-02,  2.06840703e-02,\n",
       "        5.12305261e-02,  1.14740376e-01,  4.92323356e-02,  1.04000520e-01,\n",
       "        5.84533155e-02, -4.44846659e-02, -1.41978400e-01, -3.82812932e-02,\n",
       "        7.99945255e-03,  1.40540742e-02, -6.07395174e-02,  1.72835243e-01,\n",
       "        5.66526440e-02, -1.11373555e-02,  7.81363035e-02,  8.22452619e-03,\n",
       "       -8.30983523e-02, -2.14163590e-02, -1.09997548e-01, -2.06801634e-02,\n",
       "       -2.17254461e-02, -3.01849659e-02,  1.28329157e-01,  1.90175942e-01,\n",
       "        6.52524725e-02, -5.56684121e-02, -4.80322891e-02, -1.28558640e-01,\n",
       "       -8.74101940e-02,  2.23165227e-01, -1.17113813e-01,  5.81952024e-02,\n",
       "        1.78083485e-02,  5.76831518e-02,  5.30637646e-03,  3.40272430e-02,\n",
       "        1.34524594e-02,  4.26866485e-03, -1.52948681e-01,  1.38322192e-01,\n",
       "        1.44566769e-01,  2.60300238e-02,  1.65455521e-02,  7.13032311e-02,\n",
       "        8.32468085e-03,  5.98111665e-02, -7.37812755e-02,  1.35489172e-01,\n",
       "        8.19932713e-02,  5.33696617e-03,  1.65923434e-02,  1.97008851e-01,\n",
       "        3.96175765e-03, -1.33728872e-02, -8.94245842e-03,  4.10792470e-02,\n",
       "        4.39202536e-02, -9.44296693e-02, -4.37546517e-02,  6.71167762e-02,\n",
       "        7.82932606e-02, -9.17565469e-02,  8.75858637e-02, -5.13989672e-02,\n",
       "        3.06642408e-02, -1.83600641e-03, -2.98914616e-02, -7.34887877e-02,\n",
       "        6.19218955e-02, -1.02494982e-01,  4.94504615e-02,  8.17203508e-02,\n",
       "       -7.51177425e-02, -2.90863706e-02,  7.64309622e-02, -7.35789991e-02,\n",
       "        7.51016757e-02,  2.46417966e-01,  3.06242503e-04,  2.50951975e-01,\n",
       "       -4.54592210e-02, -2.64169938e-02, -1.41140437e-01, -2.20071408e-01,\n",
       "       -6.32725854e-02, -7.94773010e-02,  5.23326991e-02, -7.47859814e-02,\n",
       "       -3.82866913e-02, -9.56499772e-02, -2.26156840e-02, -1.25427642e-01,\n",
       "        3.18428814e-02,  1.55677015e-01, -1.28240377e-01,  4.23733325e-02,\n",
       "        1.32273921e-01, -3.87564603e-02, -1.06972619e-01,  2.18111203e-02,\n",
       "       -1.94946588e-01,  1.97164239e-02,  1.06490587e-01, -2.30231517e-01,\n",
       "        7.86676933e-02,  1.14576195e-01,  1.17068229e-01, -1.24534296e-01,\n",
       "        1.43505769e-01,  6.55033422e-03,  3.82674165e-02, -6.33460791e-03,\n",
       "        5.80661219e-02,  5.30503794e-03,  3.08818400e-02, -1.18026626e-02,\n",
       "       -6.98775115e-02,  4.56734063e-03,  9.64802573e-02, -1.84560442e-01,\n",
       "        1.06040298e-01, -1.81607595e-03,  1.50651763e-01, -7.19707186e-02,\n",
       "        3.13592395e-02, -1.58617879e-02, -1.32204109e-01,  1.51853014e-01,\n",
       "       -8.87056070e-02, -1.08634623e-01, -2.74516693e-02,  3.06143091e-02,\n",
       "       -6.22248777e-02, -1.20146832e-01,  3.16480391e-03,  7.18472818e-02,\n",
       "        1.32095264e-01, -1.21160603e-01,  1.14633927e-01, -1.31337050e-01,\n",
       "       -8.07075183e-02,  4.63184822e-02,  1.23907446e-01, -3.87234786e-02,\n",
       "        1.73748894e-01,  2.24776927e-02,  1.12035361e-01, -1.32957973e-01,\n",
       "       -3.74799085e-02,  6.59644795e-02, -6.50648726e-02,  4.13376348e-02,\n",
       "       -5.48353989e-02,  6.21484926e-02, -2.44086590e-01, -1.00824992e-01,\n",
       "       -4.59359194e-02,  1.00422209e-02,  2.12845371e-01,  8.78443480e-02,\n",
       "       -2.04279048e-02, -4.36723562e-02, -8.19346858e-02, -4.71232718e-02,\n",
       "       -4.07816654e-02, -5.11478499e-02,  8.98461735e-02, -3.45125393e-02,\n",
       "        1.66576391e-01,  7.77979403e-02,  3.38774152e-02,  2.92114495e-02,\n",
       "        1.09270141e-01,  9.87048454e-02, -1.40908798e-01, -1.76407404e-01,\n",
       "        1.43327414e-01, -7.06059247e-02,  4.11024170e-02,  5.79448873e-02,\n",
       "       -1.88823598e-01, -2.95245829e-02,  1.44623733e-01, -9.59958238e-02,\n",
       "        7.66292856e-02,  1.52500248e-02,  6.50698058e-02, -2.68408965e-02,\n",
       "        1.22947839e-01,  6.50042666e-02, -1.54801641e-02, -2.22655903e-01,\n",
       "        1.31020907e-01, -1.53690631e-01, -1.25686173e-01,  8.73338983e-02,\n",
       "       -1.92622911e-01,  8.19118490e-03, -5.81458189e-02, -1.98165254e-01,\n",
       "       -2.74552882e-02, -4.67483358e-02,  1.16153307e-01, -8.16543998e-02,\n",
       "        3.27496709e-02, -8.25127379e-03, -9.49525951e-02, -1.65720161e-01,\n",
       "       -7.63324366e-02, -1.69942971e-02, -1.26285355e-01,  9.99977946e-02,\n",
       "        1.60181781e-01, -1.43404589e-02,  9.80979669e-02, -1.70786179e-02,\n",
       "       -1.75972581e-01,  2.56799482e-01, -1.08866533e-01, -1.02988685e-01,\n",
       "       -9.16619269e-02,  1.34838082e-02,  1.23706104e-01,  5.48260466e-02,\n",
       "        6.83584472e-02,  8.52778869e-02, -9.58224546e-02, -5.09167320e-02,\n",
       "       -4.37010597e-02,  3.44976711e-01, -5.07442942e-02, -8.54621682e-02,\n",
       "        1.95724563e-02, -2.29427599e-01,  4.69313331e-02,  3.49749419e-02,\n",
       "        1.04455875e-01,  1.33654356e-01, -1.01583743e-01, -1.05296466e-01,\n",
       "        1.04207375e-01, -3.98578608e-02,  8.10357330e-02,  1.69075007e-01,\n",
       "       -2.14150073e-02,  8.98405022e-02,  2.06503375e-01,  1.68692416e-01,\n",
       "        9.40897125e-02, -1.68316235e-01,  1.56226049e-01, -1.08052086e-01,\n",
       "       -1.89898575e-02,  1.17398627e-01, -2.55656923e-01, -2.86854242e-02,\n",
       "       -1.16849147e-01,  9.77494777e-02, -6.81875767e-02,  3.06250330e-02,\n",
       "        2.34641822e-01,  8.79435835e-02,  1.87320035e-02,  8.75035359e-02,\n",
       "       -1.82064743e-01,  2.15235099e-02,  3.37064348e-02,  8.74792568e-02,\n",
       "       -9.14750877e-03,  6.28444054e-02,  1.87487079e-02,  2.24417602e-01,\n",
       "       -2.39925093e-02,  4.57079073e-02, -2.95119653e-02, -6.29911015e-02,\n",
       "       -4.78850764e-02,  1.10444710e-01, -8.06518180e-02, -3.87742311e-02,\n",
       "        4.15457924e-02,  8.80517028e-02, -8.20655941e-02, -3.38975521e-01,\n",
       "        1.31935729e-01,  9.45281533e-02, -5.91575150e-02,  1.23182022e-01,\n",
       "        1.36840405e-02, -4.50638699e-02, -2.57909088e-02, -7.28707866e-02,\n",
       "        1.38651776e-01,  6.80139733e-02,  1.12428749e-01, -6.27221394e-02,\n",
       "       -5.38039802e-02, -2.23674443e-02, -1.08104055e-01, -9.93519785e-02,\n",
       "       -1.43588195e-01,  3.95625756e-02,  1.85923585e-01, -8.29201157e-02,\n",
       "       -1.27817774e-01, -7.38433665e-03, -8.76687905e-02, -7.22656974e-02,\n",
       "       -8.76653758e-02, -3.38154970e-02,  1.49671583e-01, -1.46181524e-01,\n",
       "        9.73858961e-02,  8.80076741e-02,  1.59067616e-01,  6.93618129e-02,\n",
       "        1.05342960e-01,  6.12078908e-02, -1.06677278e-01, -1.77880439e-02,\n",
       "       -1.43145312e-01, -6.70400769e-02,  9.71298623e-02, -3.93504008e-02,\n",
       "        1.17401214e-01,  1.46703445e-02,  1.88183265e-02, -3.75657292e-03,\n",
       "        1.53867057e-01, -2.09816926e-02, -4.27411994e-02, -1.37262126e-01,\n",
       "        7.45363493e-02, -1.30255907e-02,  9.92261296e-02,  1.57475784e-02,\n",
       "       -8.98910456e-03,  1.03229737e-01,  6.35361356e-02,  7.15154779e-02,\n",
       "        1.19679195e-01,  4.01945458e-02, -2.66014123e-02,  1.22339622e-02,\n",
       "       -1.60791704e-01,  9.79881952e-02, -8.12642446e-03, -9.23478493e-02,\n",
       "        1.48618460e-02,  3.32854294e-02,  1.85173209e-02, -8.36652003e-03,\n",
       "       -5.65418094e-02,  1.27836180e-01, -1.96622771e-02,  1.18336906e-01,\n",
       "        1.81353771e-02,  6.86039023e-02, -4.35300235e-02,  9.02393866e-02,\n",
       "        3.41696167e-02,  4.70473134e-02, -3.06073956e-02,  1.31978043e-02,\n",
       "       -9.27482830e-02,  8.35851661e-02, -7.63655170e-02,  7.00158789e-02,\n",
       "       -1.93167160e-01,  1.34242686e-01, -1.11309950e-01, -2.33263350e-02,\n",
       "       -6.29478436e-02, -4.98353955e-02,  1.28836940e-02,  5.24658890e-02,\n",
       "       -8.92701187e-02, -3.49668024e-02,  7.92528541e-02, -1.89356731e-01,\n",
       "       -1.72821767e-01, -1.61979079e-01,  6.00364103e-02, -1.23531020e-02,\n",
       "        6.99604115e-02,  8.63472937e-03, -3.97060378e-02, -5.73187547e-02,\n",
       "        6.38528888e-02,  1.09637681e-01, -2.20118873e-01,  1.51393180e-01,\n",
       "        2.06947485e-03,  5.24733605e-02,  1.08167090e-01,  5.92561054e-02,\n",
       "        2.83413618e-02, -2.09677935e-01, -4.88079814e-02,  1.06651309e-01,\n",
       "       -3.54118816e-02, -1.19239779e-01,  4.37933350e-02, -7.40577491e-02,\n",
       "       -3.39748761e-03, -2.28879865e-01,  1.34022261e-01, -6.98719713e-02,\n",
       "        2.07095428e-01, -4.83791801e-02, -4.36903527e-02,  9.05812209e-02,\n",
       "        8.71175795e-02, -5.76789256e-02, -2.77315052e-02,  9.42817426e-02,\n",
       "        4.57244427e-02, -4.76359124e-02, -7.09547461e-02,  4.20994773e-02,\n",
       "       -1.73565049e-01,  8.03786066e-03,  2.13485857e-01, -7.49519667e-03,\n",
       "       -7.01504567e-02, -1.32558621e-02,  1.87913421e-02,  3.34230960e-02,\n",
       "        9.26854395e-02,  6.07044121e-02,  7.73224442e-02, -1.06227168e-01,\n",
       "        1.32984302e-01,  7.62140483e-02,  1.07682756e-01, -6.86433449e-03,\n",
       "       -8.99868956e-02, -7.99121550e-02, -8.01971563e-03,  3.17827166e-02,\n",
       "        9.58218500e-02,  4.36813782e-02,  1.26898850e-01, -3.03432009e-02,\n",
       "        1.06517386e-01,  9.54996587e-02, -1.75204226e-01,  1.73913328e-02,\n",
       "        3.49447926e-02,  7.32703229e-02, -1.54524508e-01,  1.04706690e-03,\n",
       "        3.21842497e-02,  1.80189271e-01,  1.09099581e-03, -1.77064027e-02,\n",
       "       -5.56105995e-02,  1.09424462e-01, -1.48235178e-01, -2.26462621e-01,\n",
       "        3.17075893e-02, -2.47863731e-03,  7.37388260e-03,  5.10219895e-02,\n",
       "        2.24224413e-01,  6.03183064e-02,  1.28432244e-01,  1.65915118e-01,\n",
       "       -7.75337780e-02, -3.56113752e-02, -1.63052705e-03, -1.39006469e-02,\n",
       "       -1.51926160e-02,  1.44810952e-01, -1.46454896e-01, -5.09770393e-02,\n",
       "        7.31448129e-02,  3.96040742e-05,  4.58088134e-02,  4.89055579e-02,\n",
       "        3.63400442e-02,  2.85782735e-02,  1.27749254e-01, -1.35506700e-01,\n",
       "        1.25306741e-01,  1.37975068e-01, -1.19017767e-01, -9.02063476e-02,\n",
       "       -2.60613211e-01,  1.05152305e-02,  5.95479571e-02,  6.44282658e-02,\n",
       "        5.37635018e-02,  1.13957501e-01, -8.19695382e-02,  1.94630950e-01,\n",
       "        1.87206207e-01,  6.08114547e-02, -1.52525521e-01, -1.08416867e-01,\n",
       "       -9.78869682e-02,  5.20734930e-02,  4.32476459e-02, -8.26742649e-02,\n",
       "       -1.21507706e-01, -1.26596070e-01,  8.75298626e-02,  4.58656944e-02,\n",
       "       -1.33996485e-01,  1.68024840e-02,  1.21006809e-01, -1.50570908e-01,\n",
       "       -4.71476956e-02, -2.32056825e-02,  9.63501327e-02,  1.20953636e-01,\n",
       "       -8.55887372e-02, -1.37816968e-01,  3.95184236e-04,  1.50021767e-01,\n",
       "        1.31983728e-01, -1.85540925e-02, -8.82863578e-02,  4.63199128e-02,\n",
       "        7.06843875e-02, -7.00325739e-02,  6.13365784e-02,  1.49276409e-01,\n",
       "       -8.79754970e-02,  1.11345172e-01, -8.29864310e-02, -9.79998101e-02,\n",
       "        3.05610044e-02, -1.14275343e-01,  5.26072153e-02,  3.61234289e-02,\n",
       "        9.29036741e-04, -9.48955071e-02,  1.93624225e-02,  1.82529442e-02,\n",
       "        2.47459384e-02,  1.37106344e-01, -9.44131776e-02, -1.89996158e-01,\n",
       "        1.31620631e-02, -2.64150036e-02, -8.30595360e-04,  1.03072900e-01,\n",
       "       -3.29200841e-02,  5.71833766e-03, -7.38660139e-02, -3.52003437e-02,\n",
       "        1.40199419e-01, -1.17882703e-01, -4.05581234e-02, -6.71788838e-02,\n",
       "       -1.66055677e-02, -4.57829622e-02,  2.58737084e-02, -2.26921870e-01,\n",
       "        3.55799651e-02, -1.19377388e-01,  6.91360797e-02,  6.78065081e-02,\n",
       "        1.71051206e-01, -3.71293454e-02, -1.33629808e-01,  2.29708724e-02,\n",
       "        1.62605295e-01,  2.12237654e-01,  8.96798659e-02,  8.53892862e-02,\n",
       "        1.25634047e-02, -7.31925427e-02,  1.01197490e-03,  2.04211174e-01,\n",
       "       -7.82382194e-02, -3.71045314e-02,  1.11720120e-04,  4.50319580e-02,\n",
       "        2.36818871e-01, -8.58719052e-02, -4.54350558e-02,  8.42186541e-03,\n",
       "       -6.88325945e-02,  6.59255066e-02, -5.50872993e-02, -1.91316608e-03,\n",
       "       -9.39793256e-03, -4.06902949e-02,  1.72155587e-02,  1.15539908e-02,\n",
       "       -5.95235234e-03,  9.66546901e-02,  9.78805719e-02,  6.39693250e-02,\n",
       "       -5.65313449e-02, -5.26264269e-02, -6.59872319e-02, -7.72076133e-02,\n",
       "        1.48865927e-01, -7.37575149e-02,  1.08226058e-01,  8.52316375e-02,\n",
       "        3.97237263e-02,  4.12053942e-02,  1.69590405e-02, -3.80068864e-02,\n",
       "       -1.02210249e-01,  3.81514972e-02, -3.88543878e-02,  5.06841095e-02,\n",
       "       -1.36567514e-01,  8.64078801e-03, -9.44958192e-02,  2.82298217e-02,\n",
       "       -2.63703459e-02, -3.60117809e-02,  3.57417122e-02, -7.64046346e-03,\n",
       "       -1.69061143e-01, -6.96569164e-02, -4.57413804e-02,  7.87037719e-02,\n",
       "       -8.83435931e-02, -1.10414641e-01, -2.34351998e-01, -1.49155231e-01,\n",
       "        5.14775680e-02, -4.28932520e-02,  6.69507079e-02,  5.87770200e-02,\n",
       "       -1.10469956e-02, -1.49488357e-03, -9.28472383e-02, -3.85372537e-02,\n",
       "       -2.09560604e-02,  2.07420234e-01,  8.37885986e-02,  1.88687711e-02,\n",
       "       -5.90958727e-02,  2.92948891e-02,  1.43553044e-01, -1.46353518e-01,\n",
       "       -6.24306457e-02,  3.21770876e-03,  1.39322962e-01,  8.60137861e-02,\n",
       "       -4.92105469e-03, -1.45032751e-01,  2.28928560e-01, -8.78874079e-02,\n",
       "       -1.26239265e-01,  6.67783147e-02,  1.05049367e-01, -1.62311336e-02,\n",
       "       -6.28746944e-02, -1.57675912e-01,  1.13328640e-01,  1.84676711e-01,\n",
       "        4.42604654e-02, -1.91723629e-01, -1.32419092e-01,  4.49533535e-02,\n",
       "        1.46481103e-01,  1.36071760e-01,  1.91943130e-01, -9.64843107e-02,\n",
       "        7.11009892e-02,  5.12574055e-02,  2.71382111e-02,  1.49336126e-01,\n",
       "        7.14608868e-02,  1.16434830e-02,  1.84617261e-01,  1.20814472e-01,\n",
       "       -1.93353627e-01,  3.45003394e-02,  1.34666840e-01,  7.10175553e-02,\n",
       "        3.68768195e-02, -1.20247313e-01,  1.44873909e-01, -8.76431604e-02,\n",
       "        4.10745597e-02, -7.66324346e-02,  2.88661318e-02, -3.79858502e-02,\n",
       "       -2.95776451e-01,  1.24995851e-01,  1.57322502e-01, -8.93273523e-02,\n",
       "       -4.10771091e-02,  1.29000628e-01,  1.24036168e-01, -6.77504649e-02,\n",
       "       -6.61351222e-02,  1.29045869e-02,  8.82377026e-03,  9.60906411e-03,\n",
       "        1.05898852e-02, -8.97491493e-02,  4.44828073e-02,  3.24780664e-02,\n",
       "        7.00296991e-02, -1.77478306e-01, -3.10767836e-03, -2.02018058e-01,\n",
       "       -5.06490693e-02, -9.48817554e-02, -5.75462294e-02, -2.54674424e-02])"
      ]
     },
     "execution_count": 16,
     "metadata": {},
     "output_type": "execute_result"
    }
   ],
   "source": [
    "np.random.normal(0, 0.1, 1000)"
   ]
  },
  {
   "cell_type": "code",
   "execution_count": 24,
   "metadata": {},
   "outputs": [],
   "source": [
    "# The data is being centered around the first number, if you change it around you can see.\n",
    "x = np.random.normal(15, 7, 1000)"
   ]
  },
  {
   "cell_type": "code",
   "execution_count": 25,
   "metadata": {},
   "outputs": [
    {
     "data": {
      "text/plain": [
       "(array([ 18.,  38., 123., 190., 235., 193., 119.,  56.,  19.,   9.]),\n",
       " array([-3.38524184,  0.70515851,  4.79555885,  8.88595919, 12.97635954,\n",
       "        17.06675988, 21.15716023, 25.24756057, 29.33796091, 33.42836126,\n",
       "        37.5187616 ]),\n",
       " <a list of 10 Patch objects>)"
      ]
     },
     "execution_count": 25,
     "metadata": {},
     "output_type": "execute_result"
    },
    {
     "data": {
      "image/png": "[encoded data removed]",
      "text/plain": [
       "<Figure size 432x288 with 1 Axes>"
      ]
     },
     "metadata": {
      "needs_background": "light"
     },
     "output_type": "display_data"
    }
   ],
   "source": [
    "# Shows the data on the x axis\n",
    "plt.hist(x)"
   ]
  },
  {
   "cell_type": "markdown",
   "metadata": {},
   "source": [
    "## Seeds in the Numpy.Random Package.\n",
    "Seeding a pseudo-random number generator gives it its first \"previous\" value. Each seed value will correspond to a sequence of generated values for a given random number generator. That is, if you provide the same seed twice, you get the same sequence of numbers twice.\n",
    "The seed is the position you started at, if you know what the seed is you can guess what the computer is going to tell you next.\n",
    "If you don't want the computer to generate random numbers you can give it the seed so you will get the same numbers from before and get the same output.\n",
    "\n",
    "### Look up more on this under Random Generator.\n",
    "Four functions are:\n",
    "- RandomState\n",
    "- Seed\n",
    "- get_state\n",
    "- set_state\n"
   ]
  },
  {
   "cell_type": "code",
   "execution_count": null,
   "metadata": {},
   "outputs": [],
   "source": []
  }
 ],
 "metadata": {
  "kernelspec": {
   "display_name": "Python 3",
   "language": "python",
   "name": "python3"
  },
  "language_info": {
   "codemirror_mode": {
    "name": "ipython",
    "version": 3
   },
   "file_extension": ".py",
   "mimetype": "text/x-python",
   "name": "python",
   "nbconvert_exporter": "python",
   "pygments_lexer": "ipython3",
   "version": "3.7.1"
  }
 },
 "nbformat": 4,
 "nbformat_minor": 2
}
